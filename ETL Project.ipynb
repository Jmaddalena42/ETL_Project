{
 "cells": [
  {
   "cell_type": "markdown",
   "metadata": {},
   "source": [
    "# kaggle Data Sets\n",
    "\n",
    "Combining public country statistics from th US Census Bureau with the Human Freedom Index\n",
    "* United States International Census (Google BigQuery): https://www.kaggle.com/census/census-bureau-international/metadata\n",
    "* Human Freedom Index (csv): https://www.kaggle.com/gsutters/the-human-freedom-index\n",
    "\n",
    "ETL Repository https://github.com/Jmaddalena42/ETL_Project\n",
    "\n",
    "## Obtain Census Dataset\n",
    "\n",
    "BigQuery Public Datasets https://cloud.google.com/bigquery/public-data/\n",
    "\n",
    "### Enable Google Cloud services\n",
    "\n",
    "Google Cloud Python Service Quick Start https://cloud.google.com/bigquery/docs/quickstarts/quickstart-client-libraries#client-libraries-install-python\n",
    "\n",
    "### Install Dependencies\n",
    "\n",
    "$ pip install google.cloud\n",
    "\n",
    "$ pip install --upgrade google-cloud-bigquery\n",
    "\n",
    "$ pip install --upgrade google-cloud-storage\n",
    "\n",
    "### Get Service Account API Credentials\n",
    "\n",
    "Download Service Account Key\n",
    "\n",
    "https://console.cloud.google.com/apis/credentials?project=bootcamp-1569375678077&folder&organizationId\n",
    "\n",
    "Enable BigQuery API\n",
    "\n",
    "https://console.developers.google.com/apis/api/bigquery-json.googleapis.com/overview?project=bootcamp-1569375678077\n",
    "\n",
    "### Enable Google Credentials for every session\n",
    "\n",
    "GOOGLE_APPLICATION_CREDENTIALS must be set before jupyter notebook is started every session:\n",
    "\n",
    "$ set GOOGLE_APPLICATION_CREDENTIALS='C:\\Users\\janin\\OneDrive\\Documents\\GitHub\\ETL_Project\\Bootcamp-f0347722c83b.json'\n",
    "\n"
   ]
  },
  {
   "cell_type": "code",
   "execution_count": null,
   "metadata": {
    "ExecuteTime": {
     "end_time": "2019-11-08T04:37:40.228477Z",
     "start_time": "2019-11-08T04:37:40.223484Z"
    }
   },
   "outputs": [],
   "source": [
    "# Constants\n",
    "PROJECT_ID = 'bigquery-public-data' # All BigQuery public datasets use this project ID\n",
    "dataset = 'census_bureau_international' # Name of the dataset we're interested in\n",
    "\n",
    "# Dependencies to be able to get data from Google BigQuery\n",
    "from google.cloud import bigquery\n",
    "bigquery_client = bigquery.Client(project=PROJECT_ID)\n",
    "from google.cloud import storage\n",
    "storage_client = storage.Client(project=PROJECT_ID)"
   ]
  },
  {
   "cell_type": "code",
   "execution_count": 7,
   "metadata": {
    "ExecuteTime": {
     "end_time": "2019-11-08T04:51:07.308359Z",
     "start_time": "2019-11-08T04:51:07.305364Z"
    }
   },
   "outputs": [],
   "source": [
    "# Get dataset reference\n",
    "census_dataset_ref = bigquery_client.dataset(dataset, project=PROJECT_ID)"
   ]
  },
  {
   "cell_type": "code",
   "execution_count": 9,
   "metadata": {
    "ExecuteTime": {
     "end_time": "2019-11-08T04:54:28.609957Z",
     "start_time": "2019-11-08T04:54:28.359628Z"
    }
   },
   "outputs": [],
   "source": [
    "# Get dataset\n",
    "census_dset = bigquery_client.get_dataset(census_dataset_ref)"
   ]
  },
  {
   "cell_type": "markdown",
   "metadata": {},
   "source": [
    "To resolve  403 error, enabled BigQuery API at https://console.developers.google.com/apis/library/bigquery-json.googleapis.com?project=bootcamp-1569375678077&pli=1.\n",
    "\n",
    "Example error:\n",
    "\n",
    "Forbidden: 403 GET https://bigquery.googleapis.com/bigquery/v2/projects/bigquery-public-data/datasets/census_bureau_international: BigQuery API has not been used in project 488912422205 before or it is disabled. Enable it by visiting https://console.developers.google.com/apis/api/bigquery-json.googleapis.com/overview?project=488912422205 then retry. If you enabled this API recently, wait a few minutes for the action to propagate to our systems and retry."
   ]
  },
  {
   "cell_type": "code",
   "execution_count": 10,
   "metadata": {
    "ExecuteTime": {
     "end_time": "2019-11-08T04:55:35.861161Z",
     "start_time": "2019-11-08T04:55:35.708089Z"
    }
   },
   "outputs": [
    {
     "data": {
      "text/plain": [
       "['age_specific_fertility_rates',\n",
       " 'birth_death_growth_rates',\n",
       " 'country_names_area',\n",
       " 'midyear_population',\n",
       " 'midyear_population_5yr_age_sex',\n",
       " 'midyear_population_age_sex',\n",
       " 'midyear_population_agespecific',\n",
       " 'mortality_life_expectancy']"
      ]
     },
     "execution_count": 10,
     "metadata": {},
     "output_type": "execute_result"
    }
   ],
   "source": [
    "# List tables in the dataset\n",
    "[x.table_id for x in bigquery_client.list_tables(census_dset)]"
   ]
  },
  {
   "cell_type": "code",
   "execution_count": null,
   "metadata": {},
   "outputs": [],
   "source": []
  },
  {
   "cell_type": "code",
   "execution_count": null,
   "metadata": {},
   "outputs": [],
   "source": []
  }
 ],
 "metadata": {
  "kernelspec": {
   "display_name": "Python 3",
   "language": "python",
   "name": "python3"
  },
  "language_info": {
   "codemirror_mode": {
    "name": "ipython",
    "version": 3
   },
   "file_extension": ".py",
   "mimetype": "text/x-python",
   "name": "python",
   "nbconvert_exporter": "python",
   "pygments_lexer": "ipython3",
   "version": "3.7.3"
  },
  "varInspector": {
   "cols": {
    "lenName": 16,
    "lenType": 16,
    "lenVar": 40
   },
   "kernels_config": {
    "python": {
     "delete_cmd_postfix": "",
     "delete_cmd_prefix": "del ",
     "library": "var_list.py",
     "varRefreshCmd": "print(var_dic_list())"
    },
    "r": {
     "delete_cmd_postfix": ") ",
     "delete_cmd_prefix": "rm(",
     "library": "var_list.r",
     "varRefreshCmd": "cat(var_dic_list()) "
    }
   },
   "types_to_exclude": [
    "module",
    "function",
    "builtin_function_or_method",
    "instance",
    "_Feature"
   ],
   "window_display": false
  }
 },
 "nbformat": 4,
 "nbformat_minor": 2
}
