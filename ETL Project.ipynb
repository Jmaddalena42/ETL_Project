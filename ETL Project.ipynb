{
 "cells": [
  {
   "cell_type": "markdown",
   "metadata": {},
   "source": [
    "# kaggle Data Sets\n",
    "\n",
    "Combining public country statistics from th US Census Bureau with the Human Freedom Index\n",
    "\n",
    "### United States International Census (Google BigQuery)\n",
    "\n",
    "* kaggle https://www.kaggle.com/census/census-bureau-international/metadata\n",
    "* BigQuery https://console.cloud.google.com/bigquery?filter=solution-type:dataset&q=census&id=5d64defd-b1cf-40e6-ae6b-fd3558e15d00&subtask=details&subtaskValue=united-states-census-bureau%2Finternational-census-data&project=bootcamp-1569375678077&folder&organizationId&subtaskIndex=3\n",
    "\n",
    "### Human Freedom Index (csv)\n",
    "* kaggle https://www.kaggle.com/gsutters/the-human-freedom-index\n",
    "* Data Download: https://www.kaggle.com/gsutters/the-human-freedom-index/download\n",
    "* Background: https://www.cato.org/human-freedom-index-new\n",
    "\n",
    "Human freedom is \"the absence of coercive constraint. It uses 79 distinct indicators of personal and economic freedom in the following areas:\n",
    "* Rule of Law\n",
    "* Security and Safety\n",
    "* Movement\n",
    "* Religion\n",
    "* Association, Assembly, and Civil Society\n",
    "* Expression and Information\n",
    "* Identity and Relationships\n",
    "* Size of Government\n",
    "* Legal System and Property Rights\n",
    "* Access to Sound Money\n",
    "* Freedom to Trade Internationally\n",
    "* Regulation of Credit, Labor, and Business\"\n",
    "\n",
    "ETL Repository https://github.com/Jmaddalena42/ETL_Project\n",
    "\n",
    "## Obtain Census Dataset\n",
    "\n",
    "BigQuery Public Datasets https://cloud.google.com/bigquery/public-data/\n",
    "\n",
    "### Enable Google Cloud services\n",
    "\n",
    "Google Cloud Python Service Quick Start https://cloud.google.com/bigquery/docs/quickstarts/quickstart-client-libraries#client-libraries-install-python\n",
    "\n",
    "### Install Dependencies\n",
    "\n",
    "$ pip install google.cloud\n",
    "\n",
    "$ pip install --upgrade google-cloud-bigquery\n",
    "\n",
    "$ pip install --upgrade google-cloud-storage\n",
    "\n",
    "### Get Service Account API Credentials\n",
    "\n",
    "Download Service Account Key\n",
    "\n",
    "https://console.cloud.google.com/apis/credentials?project=bootcamp-1569375678077&folder&organizationId\n",
    "\n",
    "Enable BigQuery API\n",
    "\n",
    "https://console.developers.google.com/apis/api/bigquery-json.googleapis.com/overview?project=bootcamp-1569375678077\n",
    "\n",
    "### Enable Google Credentials for every session\n",
    "\n",
    "GOOGLE_APPLICATION_CREDENTIALS must be set:\n",
    "\n",
    "https://console.cloud.google.com/home/dashboard?cloudshell=true&_ga=2.36182944.-145041138.1573320821&pli=1&project=bootcamp-1569375678077&folder&organizationId\n",
    "\n",
    "### Get Data from BigQuery\n",
    "\n",
    "kaggle Reference for BigQuery API\n",
    "\n",
    "https://www.kaggle.com/sohier/beyond-queries-exploring-the-bigquery-api"
   ]
  },
  {
   "cell_type": "code",
   "execution_count": 1,
   "metadata": {
    "ExecuteTime": {
     "end_time": "2019-11-10T20:35:07.457949Z",
     "start_time": "2019-11-10T20:35:07.454989Z"
    },
    "code_folding": [],
    "scrolled": true
   },
   "outputs": [],
   "source": [
    "# Constants\n",
    "\n",
    "# Google service credentials file\n",
    "service_account_json = \"C:/Users/janin/OneDrive/Documents/GitHub/Bootcamp-7917e2b029b4.json\"\n",
    "# BigQueryPublic data file\n",
    "PROJECT_ID = 'bigquery-public-data' # All BigQuery public datasets use this project ID\n",
    "dataset = 'census_bureau_international' # Name of the dataset we're interested in"
   ]
  },
  {
   "cell_type": "code",
   "execution_count": 2,
   "metadata": {
    "ExecuteTime": {
     "end_time": "2019-11-10T20:35:15.097653Z",
     "start_time": "2019-11-10T20:35:09.686224Z"
    },
    "code_folding": [],
    "scrolled": true
   },
   "outputs": [
    {
     "ename": "ModuleNotFoundError",
     "evalue": "No module named 'google.cloud'",
     "output_type": "error",
     "traceback": [
      "\u001b[1;31m---------------------------------------------------------------------------\u001b[0m",
      "\u001b[1;31mModuleNotFoundError\u001b[0m                       Traceback (most recent call last)",
      "\u001b[1;32m<ipython-input-2-b087747a0018>\u001b[0m in \u001b[0;36m<module>\u001b[1;34m\u001b[0m\n\u001b[0;32m      1\u001b[0m \u001b[1;31m# Dependencies to be able to get data from Google BigQuery\u001b[0m\u001b[1;33m\u001b[0m\u001b[1;33m\u001b[0m\u001b[1;33m\u001b[0m\u001b[0m\n\u001b[1;32m----> 2\u001b[1;33m \u001b[1;32mfrom\u001b[0m \u001b[0mgoogle\u001b[0m\u001b[1;33m.\u001b[0m\u001b[0mcloud\u001b[0m \u001b[1;32mimport\u001b[0m \u001b[0mbigquery\u001b[0m\u001b[1;33m\u001b[0m\u001b[1;33m\u001b[0m\u001b[0m\n\u001b[0m\u001b[0;32m      3\u001b[0m \u001b[0mbigquery_client\u001b[0m \u001b[1;33m=\u001b[0m \u001b[0mbigquery\u001b[0m\u001b[1;33m.\u001b[0m\u001b[0mClient\u001b[0m\u001b[1;33m(\u001b[0m\u001b[0mproject\u001b[0m\u001b[1;33m=\u001b[0m\u001b[0mPROJECT_ID\u001b[0m\u001b[1;33m)\u001b[0m\u001b[1;33m\u001b[0m\u001b[1;33m\u001b[0m\u001b[0m\n\u001b[0;32m      4\u001b[0m \u001b[0mprint\u001b[0m\u001b[1;33m(\u001b[0m\u001b[0mbigquery_client\u001b[0m\u001b[1;33m)\u001b[0m\u001b[1;33m\u001b[0m\u001b[1;33m\u001b[0m\u001b[0m\n\u001b[0;32m      5\u001b[0m \u001b[1;32mfrom\u001b[0m \u001b[0mgoogle\u001b[0m\u001b[1;33m.\u001b[0m\u001b[0mcloud\u001b[0m \u001b[1;32mimport\u001b[0m \u001b[0mstorage\u001b[0m\u001b[1;33m\u001b[0m\u001b[1;33m\u001b[0m\u001b[0m\n",
      "\u001b[1;31mModuleNotFoundError\u001b[0m: No module named 'google.cloud'"
     ]
    }
   ],
   "source": [
    "# Dependencies to be able to get data from Google BigQuery\n",
    "from google.cloud import bigquery\n",
    "bigquery_client = bigquery.Client(project=PROJECT_ID)\n",
    "print(bigquery_client)\n",
    "from google.cloud import storage\n",
    "storage_client = storage.Client(project=PROJECT_ID)\n",
    "print(storage_client)"
   ]
  },
  {
   "cell_type": "code",
   "execution_count": 3,
   "metadata": {
    "ExecuteTime": {
     "end_time": "2019-11-10T20:35:16.754382Z",
     "start_time": "2019-11-10T20:35:16.746403Z"
    },
    "scrolled": true
   },
   "outputs": [
    {
     "ename": "NameError",
     "evalue": "name 'bigquery_client' is not defined",
     "output_type": "error",
     "traceback": [
      "\u001b[1;31m---------------------------------------------------------------------------\u001b[0m",
      "\u001b[1;31mNameError\u001b[0m                                 Traceback (most recent call last)",
      "\u001b[1;32m<ipython-input-3-ca45fbe48ce3>\u001b[0m in \u001b[0;36m<module>\u001b[1;34m\u001b[0m\n\u001b[0;32m      1\u001b[0m \u001b[1;31m# Get dataset reference\u001b[0m\u001b[1;33m\u001b[0m\u001b[1;33m\u001b[0m\u001b[1;33m\u001b[0m\u001b[0m\n\u001b[1;32m----> 2\u001b[1;33m \u001b[0mcensus_dataset_ref\u001b[0m \u001b[1;33m=\u001b[0m \u001b[0mbigquery_client\u001b[0m\u001b[1;33m.\u001b[0m\u001b[0mdataset\u001b[0m\u001b[1;33m(\u001b[0m\u001b[0mdataset\u001b[0m\u001b[1;33m,\u001b[0m \u001b[0mproject\u001b[0m\u001b[1;33m=\u001b[0m\u001b[0mPROJECT_ID\u001b[0m\u001b[1;33m)\u001b[0m\u001b[1;33m\u001b[0m\u001b[1;33m\u001b[0m\u001b[0m\n\u001b[0m\u001b[0;32m      3\u001b[0m \u001b[0mcensus_dataset_ref\u001b[0m\u001b[1;33m\u001b[0m\u001b[1;33m\u001b[0m\u001b[0m\n",
      "\u001b[1;31mNameError\u001b[0m: name 'bigquery_client' is not defined"
     ]
    }
   ],
   "source": [
    "# Get dataset reference\n",
    "census_dataset_ref = bigquery_client.dataset(dataset, project=PROJECT_ID)\n",
    "census_dataset_ref"
   ]
  },
  {
   "cell_type": "code",
   "execution_count": 4,
   "metadata": {
    "ExecuteTime": {
     "end_time": "2019-11-10T20:35:21.598536Z",
     "start_time": "2019-11-10T20:35:20.963143Z"
    },
    "scrolled": true
   },
   "outputs": [
    {
     "ename": "NameError",
     "evalue": "name 'bigquery_client' is not defined",
     "output_type": "error",
     "traceback": [
      "\u001b[1;31m---------------------------------------------------------------------------\u001b[0m",
      "\u001b[1;31mNameError\u001b[0m                                 Traceback (most recent call last)",
      "\u001b[1;32m<ipython-input-4-4d1ea222b2ef>\u001b[0m in \u001b[0;36m<module>\u001b[1;34m\u001b[0m\n\u001b[0;32m      1\u001b[0m \u001b[1;31m# Get dataset\u001b[0m\u001b[1;33m\u001b[0m\u001b[1;33m\u001b[0m\u001b[1;33m\u001b[0m\u001b[0m\n\u001b[1;32m----> 2\u001b[1;33m \u001b[0mcensus_dset\u001b[0m \u001b[1;33m=\u001b[0m \u001b[0mbigquery_client\u001b[0m\u001b[1;33m.\u001b[0m\u001b[0mget_dataset\u001b[0m\u001b[1;33m(\u001b[0m\u001b[0mcensus_dataset_ref\u001b[0m\u001b[1;33m)\u001b[0m\u001b[1;33m\u001b[0m\u001b[1;33m\u001b[0m\u001b[0m\n\u001b[0m\u001b[0;32m      3\u001b[0m \u001b[0mcensus_dset\u001b[0m\u001b[1;33m\u001b[0m\u001b[1;33m\u001b[0m\u001b[0m\n",
      "\u001b[1;31mNameError\u001b[0m: name 'bigquery_client' is not defined"
     ]
    }
   ],
   "source": [
    "# Get dataset\n",
    "census_dset = bigquery_client.get_dataset(census_dataset_ref)\n",
    "census_dset"
   ]
  },
  {
   "cell_type": "markdown",
   "metadata": {},
   "source": [
    "To resolve  403 error, enabled BigQuery API at https://console.developers.google.com/apis/library/bigquery-json.googleapis.com?project=bootcamp-1569375678077&pli=1.\n",
    "\n",
    "Example error:\n",
    "\n",
    "Forbidden: 403 GET https://bigquery.googleapis.com/bigquery/v2/projects/bigquery-public-data/datasets/census_bureau_international: BigQuery API has not been used in project 488912422205 before or it is disabled. Enable it by visiting https://console.developers.google.com/apis/api/bigquery-json.googleapis.com/overview?project=488912422205 then retry. If you enabled this API recently, wait a few minutes for the action to propagate to our systems and retry."
   ]
  },
  {
   "cell_type": "code",
   "execution_count": 5,
   "metadata": {
    "ExecuteTime": {
     "end_time": "2019-11-10T20:35:27.213417Z",
     "start_time": "2019-11-10T20:35:27.050267Z"
    },
    "scrolled": true
   },
   "outputs": [
    {
     "name": "stdout",
     "output_type": "stream",
     "text": [
      "Tables:\n"
     ]
    },
    {
     "ename": "NameError",
     "evalue": "name 'bigquery_client' is not defined",
     "output_type": "error",
     "traceback": [
      "\u001b[1;31m---------------------------------------------------------------------------\u001b[0m",
      "\u001b[1;31mNameError\u001b[0m                                 Traceback (most recent call last)",
      "\u001b[1;32m<ipython-input-5-f587d2a8dd6b>\u001b[0m in \u001b[0;36m<module>\u001b[1;34m\u001b[0m\n\u001b[0;32m      2\u001b[0m \u001b[0mprint\u001b[0m\u001b[1;33m(\u001b[0m\u001b[1;34m\"Tables:\"\u001b[0m\u001b[1;33m)\u001b[0m\u001b[1;33m\u001b[0m\u001b[1;33m\u001b[0m\u001b[0m\n\u001b[0;32m      3\u001b[0m \u001b[0mtables\u001b[0m \u001b[1;33m=\u001b[0m \u001b[1;33m[\u001b[0m\u001b[1;33m]\u001b[0m\u001b[1;33m\u001b[0m\u001b[1;33m\u001b[0m\u001b[0m\n\u001b[1;32m----> 4\u001b[1;33m \u001b[1;32mfor\u001b[0m \u001b[0mtable\u001b[0m \u001b[1;32min\u001b[0m \u001b[0mbigquery_client\u001b[0m\u001b[1;33m.\u001b[0m\u001b[0mlist_tables\u001b[0m\u001b[1;33m(\u001b[0m\u001b[0mcensus_dset\u001b[0m\u001b[1;33m)\u001b[0m\u001b[1;33m:\u001b[0m\u001b[1;33m\u001b[0m\u001b[1;33m\u001b[0m\u001b[0m\n\u001b[0m\u001b[0;32m      5\u001b[0m     \u001b[0mtable_id\u001b[0m \u001b[1;33m=\u001b[0m \u001b[0mtable\u001b[0m\u001b[1;33m.\u001b[0m\u001b[0mtable_id\u001b[0m\u001b[1;33m\u001b[0m\u001b[1;33m\u001b[0m\u001b[0m\n\u001b[0;32m      6\u001b[0m     \u001b[1;32mif\u001b[0m \u001b[0mlen\u001b[0m\u001b[1;33m(\u001b[0m\u001b[0mtable_id\u001b[0m\u001b[1;33m)\u001b[0m\u001b[1;33m>\u001b[0m\u001b[1;36m0\u001b[0m\u001b[1;33m:\u001b[0m\u001b[1;33m\u001b[0m\u001b[1;33m\u001b[0m\u001b[0m\n",
      "\u001b[1;31mNameError\u001b[0m: name 'bigquery_client' is not defined"
     ]
    }
   ],
   "source": [
    "# List tables in the dataset\n",
    "print(\"Tables:\")\n",
    "tables = []\n",
    "for table in bigquery_client.list_tables(census_dset):\n",
    "    table_id = table.table_id\n",
    "    if len(table_id)>0:\n",
    "        tables.append(table_id)\n",
    "        print(table_id)"
   ]
  },
  {
   "cell_type": "code",
   "execution_count": 6,
   "metadata": {
    "ExecuteTime": {
     "end_time": "2019-11-10T20:36:08.250885Z",
     "start_time": "2019-11-10T20:36:07.620053Z"
    },
    "scrolled": true
   },
   "outputs": [
    {
     "name": "stdout",
     "output_type": "stream",
     "text": [
      "Tables:\n"
     ]
    },
    {
     "ename": "NameError",
     "evalue": "name 'bigquery_client' is not defined",
     "output_type": "error",
     "traceback": [
      "\u001b[1;31m---------------------------------------------------------------------------\u001b[0m",
      "\u001b[1;31mNameError\u001b[0m                                 Traceback (most recent call last)",
      "\u001b[1;32m<ipython-input-6-51816785e7bf>\u001b[0m in \u001b[0;36m<module>\u001b[1;34m\u001b[0m\n\u001b[0;32m      7\u001b[0m \u001b[0mcensus_tables\u001b[0m \u001b[1;33m=\u001b[0m \u001b[1;33m[\u001b[0m\u001b[1;33m]\u001b[0m\u001b[1;33m\u001b[0m\u001b[1;33m\u001b[0m\u001b[0m\n\u001b[0;32m      8\u001b[0m \u001b[1;32mfor\u001b[0m \u001b[0mtable\u001b[0m \u001b[1;32min\u001b[0m \u001b[0mdesired_tables\u001b[0m\u001b[1;33m:\u001b[0m\u001b[1;33m\u001b[0m\u001b[1;33m\u001b[0m\u001b[0m\n\u001b[1;32m----> 9\u001b[1;33m     \u001b[0mcensus_table\u001b[0m \u001b[1;33m=\u001b[0m \u001b[0mbigquery_client\u001b[0m\u001b[1;33m.\u001b[0m\u001b[0mget_table\u001b[0m\u001b[1;33m(\u001b[0m\u001b[0mcensus_dset\u001b[0m\u001b[1;33m.\u001b[0m\u001b[0mtable\u001b[0m\u001b[1;33m(\u001b[0m\u001b[0mtable\u001b[0m\u001b[1;33m)\u001b[0m\u001b[1;33m)\u001b[0m\u001b[1;33m\u001b[0m\u001b[1;33m\u001b[0m\u001b[0m\n\u001b[0m\u001b[0;32m     10\u001b[0m     \u001b[0mprint\u001b[0m\u001b[1;33m(\u001b[0m\u001b[0mcensus_table\u001b[0m\u001b[1;33m.\u001b[0m\u001b[0mtable_id\u001b[0m\u001b[1;33m)\u001b[0m\u001b[1;33m\u001b[0m\u001b[1;33m\u001b[0m\u001b[0m\n\u001b[0;32m     11\u001b[0m     \u001b[0mcensus_tables\u001b[0m\u001b[1;33m.\u001b[0m\u001b[0mappend\u001b[0m\u001b[1;33m(\u001b[0m\u001b[0mcensus_table\u001b[0m\u001b[1;33m)\u001b[0m\u001b[1;33m\u001b[0m\u001b[1;33m\u001b[0m\u001b[0m\n",
      "\u001b[1;31mNameError\u001b[0m: name 'bigquery_client' is not defined"
     ]
    }
   ],
   "source": [
    "# Limit tables and get commands\n",
    "desired_tables  = ['birth_death_growth_rates',\n",
    "                  'country_names_area',\n",
    "                  'midyear_population',\n",
    "                  'mortality_life_expectancy']\n",
    "print('Tables:')\n",
    "census_tables = []\n",
    "for table in desired_tables:\n",
    "    census_table = bigquery_client.get_table(census_dset.table(table))\n",
    "    print(census_table.table_id)\n",
    "    census_tables.append(census_table)\n",
    "print()\n",
    "print(\"Table Commands:\")\n",
    "census_commands = [command for command in dir(census_tables[0]) if not command.startswith('_')]\n",
    "print(census_commands)\n",
    "print()\n",
    "print(\"Schema Commands:\")\n",
    "schema_commands = [command for command in dir(census_tables[0].schema[0]) if not command.startswith('_')]\n",
    "print(schema_commands)"
   ]
  },
  {
   "cell_type": "code",
   "execution_count": 7,
   "metadata": {
    "ExecuteTime": {
     "end_time": "2019-11-10T20:36:23.855140Z",
     "start_time": "2019-11-10T20:36:23.802307Z"
    },
    "scrolled": false
   },
   "outputs": [
    {
     "name": "stdout",
     "output_type": "stream",
     "text": [
      "Schemas\n"
     ]
    }
   ],
   "source": [
    "# Get Table Schemas\n",
    "print('Schemas')\n",
    "for census_table in census_tables:\n",
    "    print()\n",
    "    print('__________________________________________________________________________________________________')\n",
    "    print(f\"Table: {census_table.table_id}\")\n",
    "    print('__________________________________________________________________________________________________')\n",
    "    for schema_field in census_table.schema:\n",
    "        print(f\"{schema_field.name} {schema_field.field_type} {schema_field.description}\")        "
   ]
  },
  {
   "cell_type": "code",
   "execution_count": 8,
   "metadata": {
    "ExecuteTime": {
     "end_time": "2019-11-10T20:36:36.191251Z",
     "start_time": "2019-11-10T20:36:29.963195Z"
    },
    "scrolled": true
   },
   "outputs": [],
   "source": [
    "# Get data for 2008 to 2016\n",
    "table_ids = []\n",
    "countries = []\n",
    "years = []\n",
    "columns = []\n",
    "results = []\n",
    "for census_table in census_tables:\n",
    "    schema_cols = [col for col in census_table.schema]\n",
    "    table_id = census_table.table_id\n",
    "    for row in bigquery_client.list_rows(census_table, start_index=100, selected_fields=schema_cols):\n",
    "        row_values = dict(row)\n",
    "        if \"year\" in row_values.keys():\n",
    "            year = row_values[\"year\"]\n",
    "            country = row_values[\"country_name\"]\n",
    "            if year>=2008 and year<=2016:\n",
    "                for col in schema_cols:\n",
    "                    column = col.name\n",
    "                    if (column!=\"year\") and (column!=\"country_name\"):\n",
    "                        table_ids.append(table_id)\n",
    "                        countries.append(country)\n",
    "                        years.append(year)\n",
    "                        columns.append(column)\n",
    "                        result = row[column]\n",
    "                        results.append(result)"
   ]
  },
  {
   "cell_type": "code",
   "execution_count": 9,
   "metadata": {
    "ExecuteTime": {
     "end_time": "2019-11-10T21:29:20.042579Z",
     "start_time": "2019-11-10T21:29:19.748157Z"
    },
    "scrolled": false
   },
   "outputs": [
    {
     "ename": "AttributeError",
     "evalue": "'DataFrame' object has no attribute 'Value'",
     "output_type": "error",
     "traceback": [
      "\u001b[1;31m---------------------------------------------------------------------------\u001b[0m",
      "\u001b[1;31mAttributeError\u001b[0m                            Traceback (most recent call last)",
      "\u001b[1;32m<ipython-input-9-7c0683feaf42>\u001b[0m in \u001b[0;36m<module>\u001b[1;34m\u001b[0m\n\u001b[0;32m     10\u001b[0m \u001b[0mcensusdf\u001b[0m\u001b[1;33m.\u001b[0m\u001b[0mset_index\u001b[0m\u001b[1;33m(\u001b[0m\u001b[1;33m[\u001b[0m\u001b[1;34m'Table'\u001b[0m\u001b[1;33m,\u001b[0m\u001b[1;34m'Country'\u001b[0m\u001b[1;33m,\u001b[0m\u001b[1;34m'Year'\u001b[0m\u001b[1;33m,\u001b[0m\u001b[1;34m'Column'\u001b[0m\u001b[1;33m]\u001b[0m\u001b[1;33m,\u001b[0m\u001b[0minplace\u001b[0m\u001b[1;33m=\u001b[0m\u001b[1;32mTrue\u001b[0m\u001b[1;33m)\u001b[0m\u001b[1;33m\u001b[0m\u001b[1;33m\u001b[0m\u001b[0m\n\u001b[0;32m     11\u001b[0m \u001b[0mcensusdf\u001b[0m \u001b[1;33m=\u001b[0m \u001b[0mcensusdf\u001b[0m\u001b[1;33m.\u001b[0m\u001b[0munstack\u001b[0m\u001b[1;33m(\u001b[0m\u001b[1;33m)\u001b[0m\u001b[1;33m\u001b[0m\u001b[1;33m\u001b[0m\u001b[0m\n\u001b[1;32m---> 12\u001b[1;33m \u001b[0mcensusdf\u001b[0m \u001b[1;33m=\u001b[0m \u001b[0mcensusdf\u001b[0m\u001b[1;33m.\u001b[0m\u001b[0mValue\u001b[0m\u001b[1;33m.\u001b[0m\u001b[0mrename_axis\u001b[0m\u001b[1;33m(\u001b[0m\u001b[1;33m[\u001b[0m\u001b[1;32mNone\u001b[0m\u001b[1;33m]\u001b[0m\u001b[1;33m,\u001b[0m \u001b[0maxis\u001b[0m\u001b[1;33m=\u001b[0m\u001b[1;36m1\u001b[0m\u001b[1;33m)\u001b[0m\u001b[1;33m.\u001b[0m\u001b[0mreset_index\u001b[0m\u001b[1;33m(\u001b[0m\u001b[1;33m)\u001b[0m\u001b[1;33m\u001b[0m\u001b[1;33m\u001b[0m\u001b[0m\n\u001b[0m\u001b[0;32m     13\u001b[0m \u001b[0mcensusdf\u001b[0m\u001b[1;33m.\u001b[0m\u001b[0mhead\u001b[0m\u001b[1;33m(\u001b[0m\u001b[1;33m)\u001b[0m\u001b[1;33m\u001b[0m\u001b[1;33m\u001b[0m\u001b[0m\n",
      "\u001b[1;32m~\\Anaconda3\\lib\\site-packages\\pandas\\core\\generic.py\u001b[0m in \u001b[0;36m__getattr__\u001b[1;34m(self, name)\u001b[0m\n\u001b[0;32m   5065\u001b[0m             \u001b[1;32mif\u001b[0m \u001b[0mself\u001b[0m\u001b[1;33m.\u001b[0m\u001b[0m_info_axis\u001b[0m\u001b[1;33m.\u001b[0m\u001b[0m_can_hold_identifiers_and_holds_name\u001b[0m\u001b[1;33m(\u001b[0m\u001b[0mname\u001b[0m\u001b[1;33m)\u001b[0m\u001b[1;33m:\u001b[0m\u001b[1;33m\u001b[0m\u001b[1;33m\u001b[0m\u001b[0m\n\u001b[0;32m   5066\u001b[0m                 \u001b[1;32mreturn\u001b[0m \u001b[0mself\u001b[0m\u001b[1;33m[\u001b[0m\u001b[0mname\u001b[0m\u001b[1;33m]\u001b[0m\u001b[1;33m\u001b[0m\u001b[1;33m\u001b[0m\u001b[0m\n\u001b[1;32m-> 5067\u001b[1;33m             \u001b[1;32mreturn\u001b[0m \u001b[0mobject\u001b[0m\u001b[1;33m.\u001b[0m\u001b[0m__getattribute__\u001b[0m\u001b[1;33m(\u001b[0m\u001b[0mself\u001b[0m\u001b[1;33m,\u001b[0m \u001b[0mname\u001b[0m\u001b[1;33m)\u001b[0m\u001b[1;33m\u001b[0m\u001b[1;33m\u001b[0m\u001b[0m\n\u001b[0m\u001b[0;32m   5068\u001b[0m \u001b[1;33m\u001b[0m\u001b[0m\n\u001b[0;32m   5069\u001b[0m     \u001b[1;32mdef\u001b[0m \u001b[0m__setattr__\u001b[0m\u001b[1;33m(\u001b[0m\u001b[0mself\u001b[0m\u001b[1;33m,\u001b[0m \u001b[0mname\u001b[0m\u001b[1;33m,\u001b[0m \u001b[0mvalue\u001b[0m\u001b[1;33m)\u001b[0m\u001b[1;33m:\u001b[0m\u001b[1;33m\u001b[0m\u001b[1;33m\u001b[0m\u001b[0m\n",
      "\u001b[1;31mAttributeError\u001b[0m: 'DataFrame' object has no attribute 'Value'"
     ]
    }
   ],
   "source": [
    "# Add lists to DataFrame\n",
    "import pandas as pd\n",
    "censusdf = pd.DataFrame()\n",
    "censusdf[\"Table\"] = table_ids\n",
    "censusdf[\"Country\"] = countries\n",
    "censusdf[\"Year\"] = years\n",
    "censusdf[\"Column\"] = columns\n",
    "censusdf[\"Value\"] = results\n",
    "censusdf.to_csv(\"Census_Raw_Data.csv\")\n",
    "censusdf.set_index(['Table','Country','Year','Column'],inplace=True)\n",
    "censusdf = censusdf.unstack()\n",
    "censusdf = censusdf.Value.rename_axis([None], axis=1).reset_index()\n",
    "censusdf.head()"
   ]
  },
  {
   "cell_type": "code",
   "execution_count": null,
   "metadata": {
    "ExecuteTime": {
     "end_time": "2019-11-10T21:32:10.332299Z",
     "start_time": "2019-11-10T21:32:10.285883Z"
    }
   },
   "outputs": [],
   "source": [
    "# Output reshaped census data\n",
    "censusdf.to_csv(\"Census_reshaped.csv\")"
   ]
  },
  {
   "cell_type": "markdown",
   "metadata": {},
   "source": [
    "# Human Freedom Index"
   ]
  },
  {
   "cell_type": "code",
   "execution_count": null,
   "metadata": {
    "ExecuteTime": {
     "end_time": "2019-11-10T20:44:57.147520Z",
     "start_time": "2019-11-10T20:44:57.070276Z"
    },
    "scrolled": false
   },
   "outputs": [],
   "source": [
    "# File to Load (Remember to Change These)\n",
    "freedom_index_csv = \"freedom.csv\"\n",
    "freedom_df = pd.read_csv(freedom_index_csv)\n",
    "# Limit columns\n",
    "freedom_df = freedom_df[['year',\n",
    "                         'countries',\n",
    "                         'pf_rol_civil',\n",
    "                         'pf_rol_criminal',\n",
    "                         'pf_ss_homicide',\n",
    "                         'pf_ss_disappearances_disap',\n",
    "                         'pf_movement_women',\n",
    "                         'pf_movement',\n",
    "                         'pf_religion',\n",
    "                         'pf_association_political',\n",
    "                         'pf_expression_killed',\n",
    "                         'pf_expression_jailed',\n",
    "                         'pf_expression_influence',\n",
    "                         'pf_expression',\n",
    "                         'pf_identity_sex', \n",
    "                         'pf_identity_divorce',\n",
    "                         'ef_legal_protection',\n",
    "                         'ef_legal_military',\n",
    "                         'ef_trade_movement',\n",
    "                         'ef_regulation_credit_ownership']].copy()\n",
    "freedom_df.set_index('year', inplace=True)\n",
    "dfObj = freedom_df.sort_values(by =['countries', 'year']).reset_index()\n",
    "freedom_df = pd.DataFrame(dfObj)\n",
    "freedom_df.head()"
   ]
  },
  {
   "cell_type": "code",
   "execution_count": null,
   "metadata": {
    "ExecuteTime": {
     "end_time": "2019-11-10T20:40:16.885605Z",
     "start_time": "2019-11-10T20:40:16.879625Z"
    },
    "scrolled": true
   },
   "outputs": [],
   "source": []
  },
  {
   "cell_type": "code",
   "execution_count": null,
   "metadata": {},
   "outputs": [],
   "source": []
  }
 ],
 "metadata": {
  "kernelspec": {
   "display_name": "Python 3",
   "language": "python",
   "name": "python3"
  },
  "language_info": {
   "codemirror_mode": {
    "name": "ipython",
    "version": 3
   },
   "file_extension": ".py",
   "mimetype": "text/x-python",
   "name": "python",
   "nbconvert_exporter": "python",
   "pygments_lexer": "ipython3",
   "version": "3.7.3"
  },
  "varInspector": {
   "cols": {
    "lenName": 16,
    "lenType": 16,
    "lenVar": 40
   },
   "kernels_config": {
    "python": {
     "delete_cmd_postfix": "",
     "delete_cmd_prefix": "del ",
     "library": "var_list.py",
     "varRefreshCmd": "print(var_dic_list())"
    },
    "r": {
     "delete_cmd_postfix": ") ",
     "delete_cmd_prefix": "rm(",
     "library": "var_list.r",
     "varRefreshCmd": "cat(var_dic_list()) "
    }
   },
   "types_to_exclude": [
    "module",
    "function",
    "builtin_function_or_method",
    "instance",
    "_Feature"
   ],
   "window_display": false
  }
 },
 "nbformat": 4,
 "nbformat_minor": 2
}
