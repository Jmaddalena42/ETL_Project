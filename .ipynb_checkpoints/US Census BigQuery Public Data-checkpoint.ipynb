{
 "cells": [
  {
   "cell_type": "markdown",
   "metadata": {},
   "source": [
    "# kaggle Data Sets\n",
    "\n",
    "Combining public country statistics from th US Census Bureau with the Human Freedom Index\n",
    "\n",
    "### United States International Census (Google BigQuery)\n",
    "\n",
    "* kaggle https://www.kaggle.com/census/census-bureau-international/metadata\n",
    "* BigQuery https://console.cloud.google.com/bigquery?filter=solution-type:dataset&q=census&id=5d64defd-b1cf-40e6-ae6b-fd3558e15d00&subtask=details&subtaskValue=united-states-census-bureau%2Finternational-census-data&project=bootcamp-1569375678077&folder&organizationId&subtaskIndex=3\n",
    "\n",
    "### Human Freedom Index (csv)\n",
    "* kaggle https://www.kaggle.com/gsutters/the-human-freedom-index\n",
    "\n",
    "ETL Repository https://github.com/Jmaddalena42/ETL_Project\n",
    "\n",
    "## Obtain Census Dataset\n",
    "\n",
    "BigQuery Public Datasets https://cloud.google.com/bigquery/public-data/\n",
    "\n",
    "### Enable Google Cloud services\n",
    "\n",
    "Google Cloud Python Service Quick Start https://cloud.google.com/bigquery/docs/quickstarts/quickstart-client-libraries#client-libraries-install-python\n",
    "\n",
    "### Install Dependencies\n",
    "\n",
    "$ pip install google.cloud\n",
    "\n",
    "$ pip install --upgrade google-cloud-bigquery\n",
    "\n",
    "$ pip install --upgrade google-cloud-storage\n",
    "\n",
    "### Get Service Account API Credentials\n",
    "\n",
    "Download Service Account Key\n",
    "\n",
    "https://console.cloud.google.com/apis/credentials?project=bootcamp-1569375678077&folder&organizationId\n",
    "\n",
    "Enable BigQuery API\n",
    "\n",
    "https://console.developers.google.com/apis/api/bigquery-json.googleapis.com/overview?project=bootcamp-1569375678077\n",
    "\n",
    "### Enable Google Credentials for every session\n",
    "\n",
    "GOOGLE_APPLICATION_CREDENTIALS must be set:\n",
    "\n",
    "https://console.cloud.google.com/home/dashboard?cloudshell=true&_ga=2.36182944.-145041138.1573320821&pli=1&project=bootcamp-1569375678077&folder&organizationId\n",
    "\n",
    "### Get Data from BigQuery\n",
    "\n",
    "kaggle Reference for BigQuery API\n",
    "\n",
    "https://www.kaggle.com/sohier/beyond-queries-exploring-the-bigquery-api"
   ]
  },
  {
   "cell_type": "code",
   "execution_count": 1,
   "metadata": {
    "ExecuteTime": {
     "end_time": "2019-11-09T20:52:25.991116Z",
     "start_time": "2019-11-09T20:52:25.987126Z"
    },
    "code_folding": []
   },
   "outputs": [],
   "source": [
    "# Constants\n",
    "\n",
    "# Google service credentials file\n",
    "service_account_json = \"C:/Users/janin/OneDrive/Documents/GitHub/Bootcamp-7917e2b029b4.json\"\n",
    "# BigQueryPublic data file\n",
    "PROJECT_ID = 'bigquery-public-data' # All BigQuery public datasets use this project ID\n",
    "dataset = 'census_bureau_international' # Name of the dataset we're interested in"
   ]
  },
  {
   "cell_type": "code",
   "execution_count": 2,
   "metadata": {
    "ExecuteTime": {
     "end_time": "2019-11-09T20:52:29.424400Z",
     "start_time": "2019-11-09T20:52:27.562816Z"
    },
    "code_folding": []
   },
   "outputs": [
    {
     "name": "stdout",
     "output_type": "stream",
     "text": [
      "<google.cloud.bigquery.client.Client object at 0x000002CB754ED780>\n",
      "<google.cloud.storage.client.Client object at 0x000002CB754ED940>\n"
     ]
    }
   ],
   "source": [
    "# Dependencies to be able to get data from Google BigQuery\n",
    "from google.cloud import bigquery\n",
    "bigquery_client = bigquery.Client(project=PROJECT_ID)\n",
    "print(bigquery_client)\n",
    "from google.cloud import storage\n",
    "storage_client = storage.Client(project=PROJECT_ID)\n",
    "print(storage_client)"
   ]
  },
  {
   "cell_type": "code",
   "execution_count": 3,
   "metadata": {
    "ExecuteTime": {
     "end_time": "2019-11-09T20:52:30.293012Z",
     "start_time": "2019-11-09T20:52:30.284046Z"
    }
   },
   "outputs": [
    {
     "data": {
      "text/plain": [
       "DatasetReference('bigquery-public-data', 'census_bureau_international')"
      ]
     },
     "execution_count": 3,
     "metadata": {},
     "output_type": "execute_result"
    }
   ],
   "source": [
    "# Get dataset reference\n",
    "census_dataset_ref = bigquery_client.dataset(dataset, project=PROJECT_ID)\n",
    "census_dataset_ref"
   ]
  },
  {
   "cell_type": "code",
   "execution_count": 4,
   "metadata": {
    "ExecuteTime": {
     "end_time": "2019-11-09T20:52:32.534472Z",
     "start_time": "2019-11-09T20:52:31.950068Z"
    }
   },
   "outputs": [
    {
     "data": {
      "text/plain": [
       "Dataset(DatasetReference('bigquery-public-data', 'census_bureau_international'))"
      ]
     },
     "execution_count": 4,
     "metadata": {},
     "output_type": "execute_result"
    }
   ],
   "source": [
    "# Get dataset\n",
    "census_dset = bigquery_client.get_dataset(census_dataset_ref)\n",
    "census_dset"
   ]
  },
  {
   "cell_type": "markdown",
   "metadata": {},
   "source": [
    "To resolve  403 error, enabled BigQuery API at https://console.developers.google.com/apis/library/bigquery-json.googleapis.com?project=bootcamp-1569375678077&pli=1.\n",
    "\n",
    "Example error:\n",
    "\n",
    "Forbidden: 403 GET https://bigquery.googleapis.com/bigquery/v2/projects/bigquery-public-data/datasets/census_bureau_international: BigQuery API has not been used in project 488912422205 before or it is disabled. Enable it by visiting https://console.developers.google.com/apis/api/bigquery-json.googleapis.com/overview?project=488912422205 then retry. If you enabled this API recently, wait a few minutes for the action to propagate to our systems and retry."
   ]
  },
  {
   "cell_type": "code",
   "execution_count": 5,
   "metadata": {
    "ExecuteTime": {
     "end_time": "2019-11-09T20:52:49.931519Z",
     "start_time": "2019-11-09T20:52:49.758171Z"
    }
   },
   "outputs": [
    {
     "name": "stdout",
     "output_type": "stream",
     "text": [
      "Tables:\n",
      "age_specific_fertility_rates\n",
      "birth_death_growth_rates\n",
      "country_names_area\n",
      "midyear_population\n",
      "midyear_population_5yr_age_sex\n",
      "midyear_population_age_sex\n",
      "midyear_population_agespecific\n",
      "mortality_life_expectancy\n"
     ]
    }
   ],
   "source": [
    "# List tables in the dataset\n",
    "print(\"Tables:\")\n",
    "tables = []\n",
    "for table in bigquery_client.list_tables(census_dset):\n",
    "    table_id = table.table_id\n",
    "    if len(table_id)>0:\n",
    "        tables.append(table_id)\n",
    "        print(table_id)"
   ]
  },
  {
   "cell_type": "code",
   "execution_count": 7,
   "metadata": {
    "ExecuteTime": {
     "end_time": "2019-11-09T20:53:17.601302Z",
     "start_time": "2019-11-09T20:53:16.973417Z"
    }
   },
   "outputs": [
    {
     "name": "stdout",
     "output_type": "stream",
     "text": [
      "Tables:\n",
      "birth_death_growth_rates\n",
      "country_names_area\n",
      "midyear_population\n",
      "mortality_life_expectancy\n",
      "\n",
      "Table Commands:\n",
      "['clustering_fields', 'created', 'dataset_id', 'description', 'encryption_configuration', 'etag', 'expires', 'external_data_configuration', 'friendly_name', 'from_api_repr', 'from_string', 'full_table_id', 'labels', 'location', 'modified', 'num_bytes', 'num_rows', 'partition_expiration', 'partitioning_type', 'path', 'project', 'reference', 'require_partition_filter', 'schema', 'self_link', 'streaming_buffer', 'table_id', 'table_type', 'time_partitioning', 'to_api_repr', 'to_bqstorage', 'view_query', 'view_use_legacy_sql']\n",
      "\n",
      "Schema Commands:\n",
      "['description', 'field_type', 'fields', 'from_api_repr', 'is_nullable', 'mode', 'name', 'to_api_repr', 'to_standard_sql']\n"
     ]
    }
   ],
   "source": [
    "desired_tables  = ['birth_death_growth_rates',\n",
    "                  'country_names_area',\n",
    "                  'midyear_population',\n",
    "                  'mortality_life_expectancy']\n",
    "print('Tables:')\n",
    "census_tables = []\n",
    "for table in desired_tables:\n",
    "    census_table = bigquery_client.get_table(census_dset.table(table))\n",
    "    print(census_table.table_id)\n",
    "    census_tables.append(census_table)\n",
    "print()\n",
    "print(\"Table Commands:\")\n",
    "census_commands = [command for command in dir(census_tables[0]) if not command.startswith('_')]\n",
    "print(census_commands)\n",
    "print()\n",
    "print(\"Schema Commands:\")\n",
    "schema_commands = [command for command in dir(census_tables[0].schema[0]) if not command.startswith('_')]\n",
    "print(schema_commands)"
   ]
  },
  {
   "cell_type": "code",
   "execution_count": 9,
   "metadata": {
    "ExecuteTime": {
     "end_time": "2019-11-09T20:59:18.907375Z",
     "start_time": "2019-11-09T20:59:18.859987Z"
    },
    "scrolled": false
   },
   "outputs": [
    {
     "name": "stdout",
     "output_type": "stream",
     "text": [
      "Schemas\n",
      "\n",
      "__________________________________________________________________________________________________\n",
      "Table: birth_death_growth_rates\n",
      "__________________________________________________________________________________________________\n",
      "country_code STRING Federal Information Processing Standard (FIPS) country/area code\n",
      "country_name STRING Country or area name\n",
      "year INTEGER Year\n",
      "crude_birth_rate FLOAT Crude birth rate (births per 1,000 population)\n",
      "crude_death_rate FLOAT Crude death rate (deaths per 1,000 population)\n",
      "net_migration FLOAT Net migration rate (net number of migrants per 1,000 population)\n",
      "rate_natural_increase FLOAT Rate of natural increase (percent)\n",
      "growth_rate FLOAT Growth rate (percent)\n",
      "\n",
      "__________________________________________________________________________________________________\n",
      "Table: country_names_area\n",
      "__________________________________________________________________________________________________\n",
      "country_code STRING Federal Information Processing Standard (FIPS) country/area code\n",
      "country_name STRING Country or area name\n",
      "country_area FLOAT Area in square kilometers\n",
      "\n",
      "__________________________________________________________________________________________________\n",
      "Table: midyear_population\n",
      "__________________________________________________________________________________________________\n",
      "country_code STRING Federal Information Processing Standard (FIPS) country/area code\n",
      "country_name STRING Country or area name\n",
      "year INTEGER Year\n",
      "midyear_population INTEGER Both sexes midyear population\n",
      "\n",
      "__________________________________________________________________________________________________\n",
      "Table: mortality_life_expectancy\n",
      "__________________________________________________________________________________________________\n",
      "country_code STRING Federal Information Processing Standard (FIPS) country/area code\n",
      "country_name STRING Country or area name\n",
      "year INTEGER Year\n",
      "infant_mortality FLOAT Both sexes infant mortality rate (infant deaths per 1,000 population)\n",
      "infant_mortality_male FLOAT Male infant mortality rate (infant deaths per 1,000 population)\n",
      "infant_mortality_female FLOAT Female infant mortality rate (infant deaths per 1,000 population)\n",
      "life_expectancy FLOAT Both sexes life expectancy at birth (years)\n",
      "life_expectancy_male FLOAT Male life expectancy at birth (years)\n",
      "life_expectancy_female FLOAT Female life expectancy at birth (years)\n",
      "mortality_rate_under5 FLOAT Both sexes under-5 mortality rate (probability of dying between ages 0 and 5)\n",
      "mortality_rate_under5_male FLOAT Male sexes under-5 mortality rate (probability of dying between ages 0 and 5)\n",
      "mortality_rate_under5_female FLOAT Female sexes under-5 mortality rate (probability of dying between ages 0 and 5)\n",
      "mortality_rate_1to4 FLOAT Both sexes child mortality rate (probability of dying between ages 1 and 4)\n",
      "mortality_rate_1to4_male FLOAT Male sexes child mortality rate (probability of dying between ages 1 and 4)\n",
      "mortality_rate_1to4_female FLOAT Female sexes child mortality rate (probability of dying between ages 1 and 4)\n"
     ]
    }
   ],
   "source": [
    "print('Schemas')\n",
    "for census_table in census_tables:\n",
    "    print()\n",
    "    print('__________________________________________________________________________________________________')\n",
    "    print(f\"Table: {census_table.table_id}\")\n",
    "    print('__________________________________________________________________________________________________')\n",
    "    for schema_field in census_table.schema:\n",
    "        print(f\"{schema_field.name} {schema_field.field_type} {schema_field.description}\")        "
   ]
  },
  {
   "cell_type": "code",
   "execution_count": 17,
   "metadata": {
    "ExecuteTime": {
     "end_time": "2019-11-10T02:07:06.552116Z",
     "start_time": "2019-11-10T02:07:00.576817Z"
    }
   },
   "outputs": [],
   "source": [
    "# Get data for 2008 to 2016\n",
    "table_ids = []\n",
    "columns = []\n",
    "results = []\n",
    "for census_table in census_tables:\n",
    "    schema_cols = [col for col in census_table.schema]\n",
    "    table_id = census_table.table_id\n",
    "    for row in bigquery_client.list_rows(census_table, start_index=100, selected_fields=schema_cols):\n",
    "        row_values = dict(row)\n",
    "        if \"year\" in row_values.keys():\n",
    "            year = row_values[\"year\"]\n",
    "            if year>=2008 and year<=2016:\n",
    "                for col in schema_cols:\n",
    "                    table_ids.append(table_id)\n",
    "                    column = col.name\n",
    "                    columns.append(column)\n",
    "                    result = row[column]\n",
    "                    results.append(result)"
   ]
  },
  {
   "cell_type": "code",
   "execution_count": 18,
   "metadata": {
    "ExecuteTime": {
     "end_time": "2019-11-10T02:07:25.578402Z",
     "start_time": "2019-11-10T02:07:25.536513Z"
    }
   },
   "outputs": [
    {
     "data": {
      "text/html": [
       "<div>\n",
       "<style scoped>\n",
       "    .dataframe tbody tr th:only-of-type {\n",
       "        vertical-align: middle;\n",
       "    }\n",
       "\n",
       "    .dataframe tbody tr th {\n",
       "        vertical-align: top;\n",
       "    }\n",
       "\n",
       "    .dataframe thead th {\n",
       "        text-align: right;\n",
       "    }\n",
       "</style>\n",
       "<table border=\"1\" class=\"dataframe\">\n",
       "  <thead>\n",
       "    <tr style=\"text-align: right;\">\n",
       "      <th></th>\n",
       "      <th>Table</th>\n",
       "      <th>Column</th>\n",
       "      <th>Value</th>\n",
       "    </tr>\n",
       "  </thead>\n",
       "  <tbody>\n",
       "    <tr>\n",
       "      <th>0</th>\n",
       "      <td>birth_death_growth_rates</td>\n",
       "      <td>country_code</td>\n",
       "      <td>FJ</td>\n",
       "    </tr>\n",
       "    <tr>\n",
       "      <th>1</th>\n",
       "      <td>birth_death_growth_rates</td>\n",
       "      <td>country_name</td>\n",
       "      <td>Fiji</td>\n",
       "    </tr>\n",
       "    <tr>\n",
       "      <th>2</th>\n",
       "      <td>birth_death_growth_rates</td>\n",
       "      <td>year</td>\n",
       "      <td>2008</td>\n",
       "    </tr>\n",
       "    <tr>\n",
       "      <th>3</th>\n",
       "      <td>birth_death_growth_rates</td>\n",
       "      <td>crude_birth_rate</td>\n",
       "      <td>23.04</td>\n",
       "    </tr>\n",
       "    <tr>\n",
       "      <th>4</th>\n",
       "      <td>birth_death_growth_rates</td>\n",
       "      <td>crude_death_rate</td>\n",
       "      <td>5.86</td>\n",
       "    </tr>\n",
       "  </tbody>\n",
       "</table>\n",
       "</div>"
      ],
      "text/plain": [
       "                      Table            Column  Value\n",
       "0  birth_death_growth_rates      country_code     FJ\n",
       "1  birth_death_growth_rates      country_name   Fiji\n",
       "2  birth_death_growth_rates              year   2008\n",
       "3  birth_death_growth_rates  crude_birth_rate  23.04\n",
       "4  birth_death_growth_rates  crude_death_rate   5.86"
      ]
     },
     "execution_count": 18,
     "metadata": {},
     "output_type": "execute_result"
    }
   ],
   "source": [
    "import pandas as pd\n",
    "\n",
    "censusdf = pd.DataFrame()\n",
    "censusdf[\"Table\"] = table_ids\n",
    "censusdf[\"Column\"] = columns\n",
    "censusdf[\"Value\"] = results\n",
    "\n",
    "censusdf.head()"
   ]
  },
  {
   "cell_type": "code",
   "execution_count": null,
   "metadata": {},
   "outputs": [],
   "source": []
  }
 ],
 "metadata": {
  "kernelspec": {
   "display_name": "Python 3",
   "language": "python",
   "name": "python3"
  },
  "language_info": {
   "codemirror_mode": {
    "name": "ipython",
    "version": 3
   },
   "file_extension": ".py",
   "mimetype": "text/x-python",
   "name": "python",
   "nbconvert_exporter": "python",
   "pygments_lexer": "ipython3",
   "version": "3.7.3"
  },
  "varInspector": {
   "cols": {
    "lenName": 16,
    "lenType": 16,
    "lenVar": 40
   },
   "kernels_config": {
    "python": {
     "delete_cmd_postfix": "",
     "delete_cmd_prefix": "del ",
     "library": "var_list.py",
     "varRefreshCmd": "print(var_dic_list())"
    },
    "r": {
     "delete_cmd_postfix": ") ",
     "delete_cmd_prefix": "rm(",
     "library": "var_list.r",
     "varRefreshCmd": "cat(var_dic_list()) "
    }
   },
   "types_to_exclude": [
    "module",
    "function",
    "builtin_function_or_method",
    "instance",
    "_Feature"
   ],
   "window_display": false
  }
 },
 "nbformat": 4,
 "nbformat_minor": 2
}
