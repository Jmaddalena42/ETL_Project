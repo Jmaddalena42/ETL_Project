{
 "cells": [
  {
   "cell_type": "code",
   "execution_count": null,
   "metadata": {},
   "outputs": [],
   "source": [
    "ingredientsdf = pd.DataFrame()\n",
    "recipe_steps_df = pd.DataFrame()\n",
    "ingredient_recipe_ids = []\n",
    "recipe_steps_recipe_ids = []\n",
    "ingredients = []\n",
    "recipe_steps = []\n",
    "step_orders = []\n",
    "df = df.reset_index()\n",
    "for row in range(0,df.rows):\n",
    "    recipe = df.iloc[row,[\"recipe_id\"]]\n",
    "    step_order = 0\n",
    "    for column in range(1,3):\n",
    "        list = []\n",
    "        list = df.iloc(row,column)\n",
    "        for item in list:\n",
    "            if column = 1:\n",
    "                ingredient_recipe_ids.append(recipe)\n",
    "                ingredients.append(item)\n",
    "            if column = 2:\n",
    "                step_order += 1\n",
    "                step_orders.append(step_order)\n",
    "                recipe_steps_recipe_ids.apend(recipe)\n",
    "                recipe_steps.append(item)\n",
    "ingredientsdf[\"Recipe ID\"]=ingredient_recipe_ids\n",
    "ingredientsdf[\"Ingredient\"]=ingredients\n",
    "recipe_steps_df[\"Recipe ID\"]=recipe_steps_recipe_ids\n",
    "recipe_steps_df[\"Step\"]=recipe_steps\n",
    "recipe_steps_df[\"Order\"]=step_orders\n",
    "            "
   ]
  }
 ],
 "metadata": {
  "kernelspec": {
   "display_name": "Python 3",
   "language": "python",
   "name": "python3"
  },
  "language_info": {
   "codemirror_mode": {
    "name": "ipython",
    "version": 3
   },
   "file_extension": ".py",
   "mimetype": "text/x-python",
   "name": "python",
   "nbconvert_exporter": "python",
   "pygments_lexer": "ipython3",
   "version": "3.7.3"
  },
  "varInspector": {
   "cols": {
    "lenName": 16,
    "lenType": 16,
    "lenVar": 40
   },
   "kernels_config": {
    "python": {
     "delete_cmd_postfix": "",
     "delete_cmd_prefix": "del ",
     "library": "var_list.py",
     "varRefreshCmd": "print(var_dic_list())"
    },
    "r": {
     "delete_cmd_postfix": ") ",
     "delete_cmd_prefix": "rm(",
     "library": "var_list.r",
     "varRefreshCmd": "cat(var_dic_list()) "
    }
   },
   "types_to_exclude": [
    "module",
    "function",
    "builtin_function_or_method",
    "instance",
    "_Feature"
   ],
   "window_display": false
  }
 },
 "nbformat": 4,
 "nbformat_minor": 2
}
